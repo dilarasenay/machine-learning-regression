{
 "cells": [
  {
   "cell_type": "markdown",
   "id": "dc66e27d",
   "metadata": {},
   "source": [
    "### BAGGED TREES "
   ]
  },
  {
   "cell_type": "code",
   "execution_count": 32,
   "id": "6d508a01",
   "metadata": {},
   "outputs": [],
   "source": [
    "import numpy as np\n",
    "import pandas as pd \n",
    "from sklearn.model_selection import train_test_split, GridSearchCV,cross_val_score\n",
    "from sklearn.metrics import mean_squared_error, r2_score\n",
    "import matplotlib.pyplot as plt\n",
    "from sklearn.preprocessing import scale \n",
    "from sklearn import model_selection\n",
    "from sklearn.tree import DecisionTreeRegressor, DecisionTreeClassifier\n",
    "from sklearn.neighbors import KNeighborsRegressor\n",
    "from sklearn.ensemble import BaggingRegressor\n",
    "from warnings import filterwarnings\n",
    "filterwarnings('ignore')"
   ]
  },
  {
   "cell_type": "code",
   "execution_count": 33,
   "id": "c5d2ba38",
   "metadata": {},
   "outputs": [],
   "source": [
    "df=pd.read_csv(r\"C:\\Users\\dilara\\Downloads\\miuul makine ogrenmesi\\datasets\\hitters.csv\")\n",
    "df=df.copy()\n",
    "df=df.dropna()\n",
    "dms = pd.get_dummies(df[['League', 'Division', 'NewLeague']])\n",
    "y = df[\"Salary\"]\n",
    "X_ = df.drop(['Salary', 'League', 'Division', 'NewLeague'], axis=1).astype('float64')\n",
    "X = pd.concat([X_, dms[['League_N', 'Division_W', 'NewLeague_N']]], axis=1)\n",
    "X_train, X_test, y_train, y_test = train_test_split(X, y, \n",
    "                                                   test_size=0.25, \n",
    "                                                    random_state=42)"
   ]
  },
  {
   "cell_type": "code",
   "execution_count": 34,
   "id": "d0fe6fa6",
   "metadata": {},
   "outputs": [
    {
     "data": {
      "text/html": [
       "<style>#sk-container-id-6 {color: black;}#sk-container-id-6 pre{padding: 0;}#sk-container-id-6 div.sk-toggleable {background-color: white;}#sk-container-id-6 label.sk-toggleable__label {cursor: pointer;display: block;width: 100%;margin-bottom: 0;padding: 0.3em;box-sizing: border-box;text-align: center;}#sk-container-id-6 label.sk-toggleable__label-arrow:before {content: \"▸\";float: left;margin-right: 0.25em;color: #696969;}#sk-container-id-6 label.sk-toggleable__label-arrow:hover:before {color: black;}#sk-container-id-6 div.sk-estimator:hover label.sk-toggleable__label-arrow:before {color: black;}#sk-container-id-6 div.sk-toggleable__content {max-height: 0;max-width: 0;overflow: hidden;text-align: left;background-color: #f0f8ff;}#sk-container-id-6 div.sk-toggleable__content pre {margin: 0.2em;color: black;border-radius: 0.25em;background-color: #f0f8ff;}#sk-container-id-6 input.sk-toggleable__control:checked~div.sk-toggleable__content {max-height: 200px;max-width: 100%;overflow: auto;}#sk-container-id-6 input.sk-toggleable__control:checked~label.sk-toggleable__label-arrow:before {content: \"▾\";}#sk-container-id-6 div.sk-estimator input.sk-toggleable__control:checked~label.sk-toggleable__label {background-color: #d4ebff;}#sk-container-id-6 div.sk-label input.sk-toggleable__control:checked~label.sk-toggleable__label {background-color: #d4ebff;}#sk-container-id-6 input.sk-hidden--visually {border: 0;clip: rect(1px 1px 1px 1px);clip: rect(1px, 1px, 1px, 1px);height: 1px;margin: -1px;overflow: hidden;padding: 0;position: absolute;width: 1px;}#sk-container-id-6 div.sk-estimator {font-family: monospace;background-color: #f0f8ff;border: 1px dotted black;border-radius: 0.25em;box-sizing: border-box;margin-bottom: 0.5em;}#sk-container-id-6 div.sk-estimator:hover {background-color: #d4ebff;}#sk-container-id-6 div.sk-parallel-item::after {content: \"\";width: 100%;border-bottom: 1px solid gray;flex-grow: 1;}#sk-container-id-6 div.sk-label:hover label.sk-toggleable__label {background-color: #d4ebff;}#sk-container-id-6 div.sk-serial::before {content: \"\";position: absolute;border-left: 1px solid gray;box-sizing: border-box;top: 0;bottom: 0;left: 50%;z-index: 0;}#sk-container-id-6 div.sk-serial {display: flex;flex-direction: column;align-items: center;background-color: white;padding-right: 0.2em;padding-left: 0.2em;position: relative;}#sk-container-id-6 div.sk-item {position: relative;z-index: 1;}#sk-container-id-6 div.sk-parallel {display: flex;align-items: stretch;justify-content: center;background-color: white;position: relative;}#sk-container-id-6 div.sk-item::before, #sk-container-id-6 div.sk-parallel-item::before {content: \"\";position: absolute;border-left: 1px solid gray;box-sizing: border-box;top: 0;bottom: 0;left: 50%;z-index: -1;}#sk-container-id-6 div.sk-parallel-item {display: flex;flex-direction: column;z-index: 1;position: relative;background-color: white;}#sk-container-id-6 div.sk-parallel-item:first-child::after {align-self: flex-end;width: 50%;}#sk-container-id-6 div.sk-parallel-item:last-child::after {align-self: flex-start;width: 50%;}#sk-container-id-6 div.sk-parallel-item:only-child::after {width: 0;}#sk-container-id-6 div.sk-dashed-wrapped {border: 1px dashed gray;margin: 0 0.4em 0.5em 0.4em;box-sizing: border-box;padding-bottom: 0.4em;background-color: white;}#sk-container-id-6 div.sk-label label {font-family: monospace;font-weight: bold;display: inline-block;line-height: 1.2em;}#sk-container-id-6 div.sk-label-container {text-align: center;}#sk-container-id-6 div.sk-container {/* jupyter's `normalize.less` sets `[hidden] { display: none; }` but bootstrap.min.css set `[hidden] { display: none !important; }` so we also need the `!important` here to be able to override the default hidden behavior on the sphinx rendered scikit-learn.org. See: https://github.com/scikit-learn/scikit-learn/issues/21755 */display: inline-block !important;position: relative;}#sk-container-id-6 div.sk-text-repr-fallback {display: none;}</style><div id=\"sk-container-id-6\" class=\"sk-top-container\"><div class=\"sk-text-repr-fallback\"><pre>BaggingRegressor(bootstrap_features=True)</pre><b>In a Jupyter environment, please rerun this cell to show the HTML representation or trust the notebook. <br />On GitHub, the HTML representation is unable to render, please try loading this page with nbviewer.org.</b></div><div class=\"sk-container\" hidden><div class=\"sk-item\"><div class=\"sk-estimator sk-toggleable\"><input class=\"sk-toggleable__control sk-hidden--visually\" id=\"sk-estimator-id-8\" type=\"checkbox\" checked><label for=\"sk-estimator-id-8\" class=\"sk-toggleable__label sk-toggleable__label-arrow\">BaggingRegressor</label><div class=\"sk-toggleable__content\"><pre>BaggingRegressor(bootstrap_features=True)</pre></div></div></div></div></div>"
      ],
      "text/plain": [
       "BaggingRegressor(bootstrap_features=True)"
      ]
     },
     "execution_count": 34,
     "metadata": {},
     "output_type": "execute_result"
    }
   ],
   "source": [
    "bag_model = BaggingRegressor(bootstrap_features=True)\n",
    "bag_model.fit(X_train , y_train)"
   ]
  },
  {
   "cell_type": "code",
   "execution_count": 35,
   "id": "d73f75f5",
   "metadata": {},
   "outputs": [
    {
     "data": {
      "text/plain": [
       "10"
      ]
     },
     "execution_count": 35,
     "metadata": {},
     "output_type": "execute_result"
    }
   ],
   "source": [
    "bag_model.n_estimators"
   ]
  },
  {
   "cell_type": "code",
   "execution_count": 36,
   "id": "cc4539ee",
   "metadata": {},
   "outputs": [
    {
     "data": {
      "text/plain": [
       "[DecisionTreeRegressor(random_state=482656719),\n",
       " DecisionTreeRegressor(random_state=252447628),\n",
       " DecisionTreeRegressor(random_state=1418504985),\n",
       " DecisionTreeRegressor(random_state=1993913792),\n",
       " DecisionTreeRegressor(random_state=1406820326),\n",
       " DecisionTreeRegressor(random_state=1657199806),\n",
       " DecisionTreeRegressor(random_state=2110781398),\n",
       " DecisionTreeRegressor(random_state=2040519227),\n",
       " DecisionTreeRegressor(random_state=1063045833),\n",
       " DecisionTreeRegressor(random_state=101581878)]"
      ]
     },
     "execution_count": 36,
     "metadata": {},
     "output_type": "execute_result"
    }
   ],
   "source": [
    "bag_model.estimators_"
   ]
  },
  {
   "cell_type": "code",
   "execution_count": 37,
   "id": "8dd81b94",
   "metadata": {},
   "outputs": [
    {
     "data": {
      "text/plain": [
       "[array([158,   5, 108, 166,  49, 190,  36, 195,   4, 139, 149,  42, 117,\n",
       "        158,   2, 114, 151, 121,  16, 144,  47,  77,  64, 190, 105,  72,\n",
       "        179, 103,   2,  71,  42,  87, 111,  52, 129,  87,  54,  44,   4,\n",
       "         92, 187, 162,  86,  93, 162, 125,  99,  58,  50,  49,  83,  86,\n",
       "         36, 100, 129,  70, 153,  41,  39,   0, 160,  67, 161, 171,   2,\n",
       "         43,  19, 177, 137, 131, 180, 145,  33, 151, 179,  98, 149, 109,\n",
       "        187, 114,  47,  59,  38,   7, 121,  25, 184,  77,  63,  27, 129,\n",
       "        143,  79,  87, 119, 140,  70,  76,  29, 136,   2, 160,   0,   7,\n",
       "        140,  80, 143,  84,  30,  92,  76,  95,  15,  75, 174,  71, 167,\n",
       "          3, 141, 194, 171,  34, 144, 119, 125, 130,  99, 145, 182, 149,\n",
       "        193,  59, 192,  57, 108, 185,  66, 195,  79,   6, 108, 121,   6,\n",
       "         56, 111, 142,  17,  45, 152, 116, 109,  17, 182, 110, 164,  10,\n",
       "         82, 169, 146,  24, 142, 127, 148, 125, 185, 136, 166, 174,  69,\n",
       "        192, 190,   9,  78,  29,  16,  47,  29,  23,  45, 129,  46, 108,\n",
       "        171, 175,  56,  78,  36, 170,   7, 187, 196, 137, 151, 161,  35,\n",
       "         79, 132]),\n",
       " array([117, 172,  69, 142,  12, 151,  13, 121,  93, 105, 166,  26,  14,\n",
       "        128, 162,  61,  90, 167,  90,  41, 188,  88, 194,   0,  13,  38,\n",
       "         78,  16,  22,  42, 193, 158, 150, 193,  97, 133,  69,  39,  51,\n",
       "        101, 174, 114, 149, 134, 161,  79, 151, 132, 150, 107,  65,  82,\n",
       "         40,  97, 136,   1, 153,  77,  37, 191,  67,  94,  99, 118, 194,\n",
       "        104,  19, 183,  29, 113, 133,  53,  34, 100,  46,  15,  47, 122,\n",
       "         68, 128,  56, 142,  46, 163,  59, 134,  89, 156,  55,  53, 189,\n",
       "        120,  85, 170, 176,  33, 137,  17, 177,  38, 131,  21,  20,  49,\n",
       "         43, 129,  21,  25, 163,  89,  90, 103,  55, 142, 112,  28, 186,\n",
       "         71,  76,  66,  20,   1,  31, 123,  59,  72, 153,  45, 133,  55,\n",
       "         29,  44,  29,  22, 144,  72, 128,  93, 118,  83, 166,  10,  85,\n",
       "         16,   6, 113, 105, 129,  88, 143, 168, 121, 143,  85,  29,   4,\n",
       "         80, 177,  87,  10, 146, 155,  76, 148, 111,  88,  67,   3,   0,\n",
       "         80,  40, 195,  18, 140,  22, 120, 125, 190, 155, 182, 168,  57,\n",
       "        110, 191,  85,   3, 150,  91, 193,   4,  99, 175, 196, 185,  50,\n",
       "         70,  56]),\n",
       " array([117,  94, 126,  40,   0,  43, 133,  58,   4,  79, 112, 173,   1,\n",
       "        177, 103,  28,  19,  53, 147, 130,  41, 164, 174, 195,  20, 124,\n",
       "         55,  81,  23,  36, 125, 144, 168, 129, 174,  15,  88, 175, 176,\n",
       "        191,  17,  22,  30, 190,  36, 181,  72,  67,  27, 195,  13, 150,\n",
       "         76, 145,   5, 110,   9,  82,  94,  34,  67,  70, 186,  26,  37,\n",
       "        180,  15,   0,  84,  76,  56,  84,  41, 100, 193, 123, 171, 188,\n",
       "          4, 132,  37, 134, 112, 129, 186, 139,  77, 125,   9,  86,  28,\n",
       "        143, 105,  51, 187, 142,  58, 121,  70, 148, 182,  35, 125,  69,\n",
       "        188, 194, 196, 180, 100, 154, 107, 107,  89,  73,  79, 126,  27,\n",
       "        157,  18, 151,  12,  40, 123, 138,  69, 192, 189,  85,  59,  16,\n",
       "        192, 100,  75,  50,   6,  37,  72,  84,  85, 180,  19, 138, 184,\n",
       "         41,  36, 117, 125,   3,  70, 159, 181,  45,  50,  27,  34,   8,\n",
       "         52, 191,  47,  44,  42,   5,  86,  40,  13, 129,   4,  25, 106,\n",
       "         63,  50,  78,  18, 119, 153,  15, 111,  57,  72,  19, 187,  32,\n",
       "         75, 108,  65, 154, 105,  71,   5,  58,   1, 187,  47,  25, 165,\n",
       "        185,  69]),\n",
       " array([167, 126, 138,  85,  88, 195, 180, 179, 119,  75,  65,  89,  70,\n",
       "         35,   0,  79, 110,  59,  51, 155, 175, 104,  99, 179, 135,  61,\n",
       "         23, 140,  38,  23,  73,  91,  64,  92, 178, 172, 181,  53,  44,\n",
       "         10, 127,  16,  52,  10,  20,  82,  44, 167,  99,  44,   5,  12,\n",
       "         43, 136,  94,  94,  50,  62, 136, 152, 104, 117,  47, 138,   3,\n",
       "         25, 162,  79,  38,  93, 139, 170, 177,  50,  89, 104,  15, 110,\n",
       "        177,  17,  40, 144, 112, 123,  42, 142, 126, 102,  34,  53,   4,\n",
       "        137, 104, 119,  82, 176,  80,  57, 124, 156,  59,  79, 121,  18,\n",
       "         81,  83,  43, 176, 141,  36,  92,   8, 183,  19, 171,  45,  56,\n",
       "         94,  51, 165,  51, 144, 125, 144,  74,  61,  20, 193,   9, 191,\n",
       "        120,   6,  75, 134, 164, 194,  43,  49, 155,  79, 156, 111,  70,\n",
       "         23, 101, 123,   7, 118, 137, 172, 124,  59, 134, 188, 117, 132,\n",
       "        165,  91, 153, 174, 134, 163,  53,  81, 127, 195,  71, 121,  92,\n",
       "        112, 140, 191,  82,  77,  42, 117,  66, 130, 166,  76,  46, 128,\n",
       "        196,  92, 190, 149,  72, 141, 129,  97,   9, 135, 140,  99,  54,\n",
       "          4, 101]),\n",
       " array([  9,  10, 181,  61, 166,  81,  84, 142,  32,   2,  80, 136,  30,\n",
       "        115,  37, 193,  83,  37,  26, 176,  59,  51,  82, 127, 158, 189,\n",
       "        183, 120, 136, 158,  92, 166, 182,   3,   3,  44, 155, 172, 137,\n",
       "         61,   0,  66, 168, 183,   7, 110,  15,  98, 130,   5,  75, 105,\n",
       "        139,  94,   7,  84,  70,  81, 127,  46,   9,  74,  83,  49,  89,\n",
       "          2,  58,  26,  11, 144, 124, 184, 161,  67,  46, 185,  64,   5,\n",
       "        140,  81,   6, 121,  28, 133,  63,  26, 188, 130, 191,  37,  21,\n",
       "         38, 111, 194, 189, 184,  28,  68,  50,  87,   8, 126, 106,  74,\n",
       "        115,  32,  57,  22,  25,  15, 168,  96,  37,  51, 131, 165, 118,\n",
       "          8,  94, 187,  13, 148,   6,   6,  13,  88, 145,  49,  44,  30,\n",
       "        167,  83,  12,  88,   2, 154, 114, 108,  32, 139,  21, 190,  61,\n",
       "         79,  48, 171, 152, 161,  19, 110, 109,  90,  50, 153, 194, 157,\n",
       "         67, 164, 129,  16, 188, 116,  94, 128,   2, 128, 175,  14, 192,\n",
       "        122,  85,   8, 146, 152,  87, 154,   8,  97, 166, 160, 159,  21,\n",
       "        144, 182,  48,  26,  54,  78, 165, 112, 150, 161, 132, 149, 142,\n",
       "         33, 171]),\n",
       " array([142,  60,  67,  58, 176, 107, 184,  64,  56,  65, 111,  75, 113,\n",
       "        177,  57, 123,  37,  11,  53,  38,  85, 140,  58, 156, 189, 144,\n",
       "        166,  77, 165, 111, 179, 194,   6, 151, 164,  10, 134,  76, 162,\n",
       "         30, 137,  44,  89,  80,  65, 127, 141, 194,  12, 185, 104,  59,\n",
       "        113,  83,  33, 169, 186, 147,  63,  44, 110, 170, 128,  50, 126,\n",
       "          2,  37, 117,  88, 180, 182, 145,  69, 100,  73,  23, 130, 195,\n",
       "        173, 177,  81, 162, 154,  90, 119,  75, 110,  10, 141, 142,  55,\n",
       "        111, 148, 171, 116,  21,   7, 101, 125,   9, 188,   8,  96,  29,\n",
       "        121,  19,   7, 144,  23, 172, 149, 162,  44,  36,  68,  29,  64,\n",
       "         51, 140, 165,   1, 111,  70,  50, 189, 112,  44, 164, 177,  44,\n",
       "        112,  13,  32,  72,   7, 173,  38, 181,  38,  89,  77, 169,  46,\n",
       "        106, 157, 184,  66, 185, 159,  51,  43,  18,  51, 192,   7, 160,\n",
       "        192,  47, 169, 180,  60, 115,   5, 105, 185,  13, 111,  31, 172,\n",
       "        174,  50,  30,  86,  43,  84,  89,  83, 161, 102, 135,   3,   3,\n",
       "         18,  16,  47, 170,  57,  55,  89, 130,  97,  66,  91, 173, 191,\n",
       "        108, 126]),\n",
       " array([170,  74, 135, 171, 101,  89,  34, 146,   7, 142, 115, 153,  80,\n",
       "        131,   2, 124,  84, 107,  48,   0,  80,  27,  58, 173, 147,  67,\n",
       "         17,  70,  42,  71, 145,   1, 124,  98,  66, 193,  34,   7,  10,\n",
       "         73, 156,   1, 112, 147,  54, 112, 192, 180,  15, 139, 140,  20,\n",
       "         56,  29, 175, 162, 142, 189,  37,  80, 180, 164, 191, 160,  49,\n",
       "        170, 138,  95,  13, 195,  37,  82,  95,  15,  55,  96,  13, 186,\n",
       "        131,  25,  72, 170, 111,  50,  52,  76,   3, 112, 108,  27, 145,\n",
       "        102,  49,  58,  10, 148,  71,  83,  72, 114,  16, 150,  46, 182,\n",
       "        120, 130, 154, 100, 157, 149,  31, 110,  38,   2, 124,  81, 180,\n",
       "        128, 195,  10, 178, 139,   9,  10,  30,  20, 159,   9, 119, 164,\n",
       "        178, 116,  12,  10,  94, 131, 132,   6, 167, 126,  38, 162,  75,\n",
       "        128,  79, 184, 104,  78,  63,  11, 135,   5,  62, 137, 182, 145,\n",
       "         31,  10,  77, 106,  38,  39, 115,  53,  93,   0,  46, 110, 178,\n",
       "         74, 116,  30,  57, 106,  77,  11, 161, 115,  61,   8,   1,  76,\n",
       "        143, 141,  50, 102,  52, 133, 165, 152, 142,   9,  62, 144,  98,\n",
       "          9, 120]),\n",
       " array([ 82, 138, 127,  68, 148,  75, 120,  88,  21, 125,  83,  73,  59,\n",
       "         60, 128, 178,   9, 148,  70, 165, 180, 187,  99, 126, 191, 113,\n",
       "        129, 196, 116, 105,  19,   2, 171, 159, 121,  60, 127,  47, 159,\n",
       "        139, 142,  54, 107,  53,  52,  31, 180,  41, 171,   8, 123,  16,\n",
       "        108,  61,  81, 151, 120, 139, 186, 101,  93,  80,  97, 169,  36,\n",
       "         81,  86, 103,  58, 127,  60,  12, 179,  38,  69, 115,   4,   6,\n",
       "        121,  76, 124,  75,   6, 110,  99,  11, 177, 173, 144, 103,  40,\n",
       "        158,  19,  91, 153, 110, 183, 115,  12, 121, 141,  43, 132,  68,\n",
       "         70, 190, 132,  77, 188, 150,   7,  53,  14,  10,  61,  58,  46,\n",
       "        121,  61,  89, 191,  99, 109, 179, 104, 140, 122,  32,  71, 101,\n",
       "          5, 104, 184,  90,  45,  33,  56,  11,  40,  36, 144,  71,  18,\n",
       "         18,  45, 176,  82,  79, 130, 159,  17,  14,  30,  37,  74,  99,\n",
       "         59, 114, 180, 111, 181,  92,  23, 139, 167,   5, 159, 122,  42,\n",
       "         86,  96, 193, 121,  31, 141, 192, 182,  45, 143,  37, 181,  71,\n",
       "         18,  93, 196,  46,  97,  93,   2,  72, 191, 152,   2, 144,  40,\n",
       "        188,  26]),\n",
       " array([119, 132,  19,  63, 133,   6,  88, 181,  46,  55,  55, 160,  28,\n",
       "        139,  25,   8, 181, 106, 106,  72, 157,  37, 121, 106, 188,  97,\n",
       "        139,   9, 154, 157,  60, 182, 162,   9, 160, 148,  22, 164,  76,\n",
       "        183,  88, 149,  40, 108, 123, 125, 193, 101,  51, 110,  13, 175,\n",
       "        142,  94,  94,  24,  90,  39, 149,  19,  90, 101,  92,  83,  65,\n",
       "          1, 104, 182,  77,  22, 107, 164,  16,  53,   0, 187, 182,  57,\n",
       "        149, 106,  68,  39,  29, 100,  34,  45, 187,  18,  75,  59, 159,\n",
       "         78, 124, 100,  47, 109, 142,  49,  34, 122,  53,  70,  40,  84,\n",
       "        196,  65,  54, 162, 163,  54, 154,  17,  99,  98,  41, 179,  19,\n",
       "         78,  47,  62, 195, 129,  25,  22, 157,  78,  42, 147, 120, 196,\n",
       "         28, 138,  49, 166,  52, 134, 142, 142, 177, 174, 116, 118, 158,\n",
       "         53,  51, 162,  35, 154, 188, 196,  77,  46,   7, 130, 153, 189,\n",
       "         48, 105,  12,   3,  55,  77,  69, 105,  68,  46,  47,  88,  92,\n",
       "         82, 109,  88, 150,  13, 137, 172, 111, 116,  96, 115, 116,  41,\n",
       "         20,  85,  71, 128, 184,  31, 157, 101, 173, 168,  93,  39, 187,\n",
       "         73, 119]),\n",
       " array([ 32, 173, 181, 145, 156,  28,  47, 175, 116,   6, 139, 154, 191,\n",
       "        124,  75, 145, 143, 174, 174,  67, 127, 136, 144,  15,  26, 132,\n",
       "        120, 111, 191,  57, 156, 157, 124, 118,  28, 183, 121,  12, 142,\n",
       "         71, 113, 149,  38, 148, 172,  31,  71,   4, 187,  42,  60,  20,\n",
       "         89, 164, 128, 102, 116,   3,  94,  94, 133,  38, 155, 136, 164,\n",
       "         37,  75,  27, 171,  47, 142, 103, 137, 100,  52, 172,  58, 163,\n",
       "         57,  48, 187, 171, 193,  36, 149, 196,  11,  39, 109,  34,  75,\n",
       "         26,   5, 182,  82, 172,  74, 159, 120,  62,  23,  71,   7, 104,\n",
       "        101, 134, 168, 117, 116,  98,  55,  72,  73,  31,  54,  58, 114,\n",
       "        151,  96,  84, 107, 137,  41,  46, 179, 127,  31, 188,  71, 172,\n",
       "          7,  42,  31,  18, 165,  32, 126, 158, 144,  80,  48,  99, 148,\n",
       "        152, 123, 126,  99, 191,  59, 166,  38, 147, 160,  47, 123,  26,\n",
       "         88, 132, 168,  56, 114,   9,  18, 102, 137, 176, 147, 173,  14,\n",
       "         59,  98,  53, 148,  48, 129, 139,   8,  63,  27,  25,  70,  84,\n",
       "         31, 181, 164, 130, 164,  73, 122, 189, 138,  45, 185, 113, 165,\n",
       "         13,  41])]"
      ]
     },
     "execution_count": 37,
     "metadata": {},
     "output_type": "execute_result"
    }
   ],
   "source": [
    "bag_model.estimators_samples_"
   ]
  },
  {
   "cell_type": "code",
   "execution_count": 38,
   "id": "13d448e1",
   "metadata": {},
   "outputs": [
    {
     "data": {
      "text/plain": [
       "[array([15, 16, 17,  1,  6,  3, 10, 12,  1, 17,  1, 14, 18, 16,  1, 10, 16,\n",
       "         2, 14]),\n",
       " array([12,  5,  0, 16,  5,  3, 13, 16,  7,  9, 13, 10,  8,  5,  1,  5,  0,\n",
       "        16,  4]),\n",
       " array([12, 15, 13,  1, 16,  0,  3, 17,  2,  4,  0, 13,  5, 18, 15, 18, 17,\n",
       "        13,  5]),\n",
       " array([ 0,  9,  8, 15,  6,  6, 14, 10,  4, 13, 16, 13, 12,  9, 11,  1, 11,\n",
       "        12, 14]),\n",
       " array([ 6,  8,  2,  7,  7,  3, 14,  1,  1,  3,  0,  0,  8,  9,  8, 16, 15,\n",
       "        18,  7]),\n",
       " array([ 0,  3,  4, 13,  8,  2,  5, 16, 17,  7,  3, 15, 16,  4, 18,  6,  8,\n",
       "         0, 15]),\n",
       " array([ 0,  4, 16,  6, 18, 12, 10,  6,  1, 18, 18, 13, 17,  7, 12, 11, 11,\n",
       "        17,  7]),\n",
       " array([ 4, 14,  3,  1,  2,  0,  3,  1, 14, 18,  3,  2, 12, 13, 12, 18,  7,\n",
       "        11, 11]),\n",
       " array([ 9,  6,  6,  2, 14, 13,  4, 17,  3, 17,  8, 15, 12,  3,  5,  0,  7,\n",
       "         5, 17]),\n",
       " array([11,  3, 11,  9, 17,  7, 16,  3,  3, 14, 13, 14, 17, 17, 17,  6,  5,\n",
       "        11, 17])]"
      ]
     },
     "execution_count": 38,
     "metadata": {},
     "output_type": "execute_result"
    }
   ],
   "source": [
    "bag_model.estimators_features_"
   ]
  },
  {
   "cell_type": "code",
   "execution_count": 39,
   "id": "c2b8619b",
   "metadata": {},
   "outputs": [
    {
     "data": {
      "text/html": [
       "<style>#sk-container-id-7 {color: black;}#sk-container-id-7 pre{padding: 0;}#sk-container-id-7 div.sk-toggleable {background-color: white;}#sk-container-id-7 label.sk-toggleable__label {cursor: pointer;display: block;width: 100%;margin-bottom: 0;padding: 0.3em;box-sizing: border-box;text-align: center;}#sk-container-id-7 label.sk-toggleable__label-arrow:before {content: \"▸\";float: left;margin-right: 0.25em;color: #696969;}#sk-container-id-7 label.sk-toggleable__label-arrow:hover:before {color: black;}#sk-container-id-7 div.sk-estimator:hover label.sk-toggleable__label-arrow:before {color: black;}#sk-container-id-7 div.sk-toggleable__content {max-height: 0;max-width: 0;overflow: hidden;text-align: left;background-color: #f0f8ff;}#sk-container-id-7 div.sk-toggleable__content pre {margin: 0.2em;color: black;border-radius: 0.25em;background-color: #f0f8ff;}#sk-container-id-7 input.sk-toggleable__control:checked~div.sk-toggleable__content {max-height: 200px;max-width: 100%;overflow: auto;}#sk-container-id-7 input.sk-toggleable__control:checked~label.sk-toggleable__label-arrow:before {content: \"▾\";}#sk-container-id-7 div.sk-estimator input.sk-toggleable__control:checked~label.sk-toggleable__label {background-color: #d4ebff;}#sk-container-id-7 div.sk-label input.sk-toggleable__control:checked~label.sk-toggleable__label {background-color: #d4ebff;}#sk-container-id-7 input.sk-hidden--visually {border: 0;clip: rect(1px 1px 1px 1px);clip: rect(1px, 1px, 1px, 1px);height: 1px;margin: -1px;overflow: hidden;padding: 0;position: absolute;width: 1px;}#sk-container-id-7 div.sk-estimator {font-family: monospace;background-color: #f0f8ff;border: 1px dotted black;border-radius: 0.25em;box-sizing: border-box;margin-bottom: 0.5em;}#sk-container-id-7 div.sk-estimator:hover {background-color: #d4ebff;}#sk-container-id-7 div.sk-parallel-item::after {content: \"\";width: 100%;border-bottom: 1px solid gray;flex-grow: 1;}#sk-container-id-7 div.sk-label:hover label.sk-toggleable__label {background-color: #d4ebff;}#sk-container-id-7 div.sk-serial::before {content: \"\";position: absolute;border-left: 1px solid gray;box-sizing: border-box;top: 0;bottom: 0;left: 50%;z-index: 0;}#sk-container-id-7 div.sk-serial {display: flex;flex-direction: column;align-items: center;background-color: white;padding-right: 0.2em;padding-left: 0.2em;position: relative;}#sk-container-id-7 div.sk-item {position: relative;z-index: 1;}#sk-container-id-7 div.sk-parallel {display: flex;align-items: stretch;justify-content: center;background-color: white;position: relative;}#sk-container-id-7 div.sk-item::before, #sk-container-id-7 div.sk-parallel-item::before {content: \"\";position: absolute;border-left: 1px solid gray;box-sizing: border-box;top: 0;bottom: 0;left: 50%;z-index: -1;}#sk-container-id-7 div.sk-parallel-item {display: flex;flex-direction: column;z-index: 1;position: relative;background-color: white;}#sk-container-id-7 div.sk-parallel-item:first-child::after {align-self: flex-end;width: 50%;}#sk-container-id-7 div.sk-parallel-item:last-child::after {align-self: flex-start;width: 50%;}#sk-container-id-7 div.sk-parallel-item:only-child::after {width: 0;}#sk-container-id-7 div.sk-dashed-wrapped {border: 1px dashed gray;margin: 0 0.4em 0.5em 0.4em;box-sizing: border-box;padding-bottom: 0.4em;background-color: white;}#sk-container-id-7 div.sk-label label {font-family: monospace;font-weight: bold;display: inline-block;line-height: 1.2em;}#sk-container-id-7 div.sk-label-container {text-align: center;}#sk-container-id-7 div.sk-container {/* jupyter's `normalize.less` sets `[hidden] { display: none; }` but bootstrap.min.css set `[hidden] { display: none !important; }` so we also need the `!important` here to be able to override the default hidden behavior on the sphinx rendered scikit-learn.org. See: https://github.com/scikit-learn/scikit-learn/issues/21755 */display: inline-block !important;position: relative;}#sk-container-id-7 div.sk-text-repr-fallback {display: none;}</style><div id=\"sk-container-id-7\" class=\"sk-top-container\"><div class=\"sk-text-repr-fallback\"><pre>DecisionTreeRegressor(random_state=482656719)</pre><b>In a Jupyter environment, please rerun this cell to show the HTML representation or trust the notebook. <br />On GitHub, the HTML representation is unable to render, please try loading this page with nbviewer.org.</b></div><div class=\"sk-container\" hidden><div class=\"sk-item\"><div class=\"sk-estimator sk-toggleable\"><input class=\"sk-toggleable__control sk-hidden--visually\" id=\"sk-estimator-id-9\" type=\"checkbox\" checked><label for=\"sk-estimator-id-9\" class=\"sk-toggleable__label sk-toggleable__label-arrow\">DecisionTreeRegressor</label><div class=\"sk-toggleable__content\"><pre>DecisionTreeRegressor(random_state=482656719)</pre></div></div></div></div></div>"
      ],
      "text/plain": [
       "DecisionTreeRegressor(random_state=482656719)"
      ]
     },
     "execution_count": 39,
     "metadata": {},
     "output_type": "execute_result"
    }
   ],
   "source": [
    "bag_model.estimators_[0]"
   ]
  },
  {
   "cell_type": "markdown",
   "id": "09574195",
   "metadata": {},
   "source": [
    "## PREDICT"
   ]
  },
  {
   "cell_type": "code",
   "execution_count": 40,
   "id": "759b0e46",
   "metadata": {},
   "outputs": [],
   "source": [
    "y_pred = bag_model.predict(X_test)"
   ]
  },
  {
   "cell_type": "code",
   "execution_count": 41,
   "id": "8e4d14b5",
   "metadata": {},
   "outputs": [
    {
     "data": {
      "text/plain": [
       "352.3382661503859"
      ]
     },
     "execution_count": 41,
     "metadata": {},
     "output_type": "execute_result"
    }
   ],
   "source": [
    "np.sqrt(mean_squared_error(y_test , y_pred))"
   ]
  },
  {
   "cell_type": "code",
   "execution_count": 42,
   "id": "233038cb",
   "metadata": {},
   "outputs": [],
   "source": [
    "iki_y_pred = bag_model.estimators_[1].fit(X_train , y_train).predict(X_test)"
   ]
  },
  {
   "cell_type": "code",
   "execution_count": 43,
   "id": "8766a75b",
   "metadata": {},
   "outputs": [
    {
     "data": {
      "text/plain": [
       "535.7337501482373"
      ]
     },
     "execution_count": 43,
     "metadata": {},
     "output_type": "execute_result"
    }
   ],
   "source": [
    "np.sqrt(mean_squared_error(y_test , iki_y_pred))"
   ]
  },
  {
   "cell_type": "code",
   "execution_count": 44,
   "id": "353ede81",
   "metadata": {},
   "outputs": [],
   "source": [
    "yedi_y_pred = bag_model.estimators_[6].fit(X_train , y_train).predict(X_test)"
   ]
  },
  {
   "cell_type": "code",
   "execution_count": 45,
   "id": "a1abbd8d",
   "metadata": {},
   "outputs": [
    {
     "data": {
      "text/plain": [
       "517.7763016691492"
      ]
     },
     "execution_count": 45,
     "metadata": {},
     "output_type": "execute_result"
    }
   ],
   "source": [
    "np.sqrt(mean_squared_error(y_test , yedi_y_pred))"
   ]
  },
  {
   "cell_type": "markdown",
   "id": "9d447f63",
   "metadata": {},
   "source": [
    "## MODEL TUNING"
   ]
  },
  {
   "cell_type": "code",
   "execution_count": 46,
   "id": "c74f43a6",
   "metadata": {},
   "outputs": [
    {
     "data": {
      "text/html": [
       "<style>#sk-container-id-8 {color: black;}#sk-container-id-8 pre{padding: 0;}#sk-container-id-8 div.sk-toggleable {background-color: white;}#sk-container-id-8 label.sk-toggleable__label {cursor: pointer;display: block;width: 100%;margin-bottom: 0;padding: 0.3em;box-sizing: border-box;text-align: center;}#sk-container-id-8 label.sk-toggleable__label-arrow:before {content: \"▸\";float: left;margin-right: 0.25em;color: #696969;}#sk-container-id-8 label.sk-toggleable__label-arrow:hover:before {color: black;}#sk-container-id-8 div.sk-estimator:hover label.sk-toggleable__label-arrow:before {color: black;}#sk-container-id-8 div.sk-toggleable__content {max-height: 0;max-width: 0;overflow: hidden;text-align: left;background-color: #f0f8ff;}#sk-container-id-8 div.sk-toggleable__content pre {margin: 0.2em;color: black;border-radius: 0.25em;background-color: #f0f8ff;}#sk-container-id-8 input.sk-toggleable__control:checked~div.sk-toggleable__content {max-height: 200px;max-width: 100%;overflow: auto;}#sk-container-id-8 input.sk-toggleable__control:checked~label.sk-toggleable__label-arrow:before {content: \"▾\";}#sk-container-id-8 div.sk-estimator input.sk-toggleable__control:checked~label.sk-toggleable__label {background-color: #d4ebff;}#sk-container-id-8 div.sk-label input.sk-toggleable__control:checked~label.sk-toggleable__label {background-color: #d4ebff;}#sk-container-id-8 input.sk-hidden--visually {border: 0;clip: rect(1px 1px 1px 1px);clip: rect(1px, 1px, 1px, 1px);height: 1px;margin: -1px;overflow: hidden;padding: 0;position: absolute;width: 1px;}#sk-container-id-8 div.sk-estimator {font-family: monospace;background-color: #f0f8ff;border: 1px dotted black;border-radius: 0.25em;box-sizing: border-box;margin-bottom: 0.5em;}#sk-container-id-8 div.sk-estimator:hover {background-color: #d4ebff;}#sk-container-id-8 div.sk-parallel-item::after {content: \"\";width: 100%;border-bottom: 1px solid gray;flex-grow: 1;}#sk-container-id-8 div.sk-label:hover label.sk-toggleable__label {background-color: #d4ebff;}#sk-container-id-8 div.sk-serial::before {content: \"\";position: absolute;border-left: 1px solid gray;box-sizing: border-box;top: 0;bottom: 0;left: 50%;z-index: 0;}#sk-container-id-8 div.sk-serial {display: flex;flex-direction: column;align-items: center;background-color: white;padding-right: 0.2em;padding-left: 0.2em;position: relative;}#sk-container-id-8 div.sk-item {position: relative;z-index: 1;}#sk-container-id-8 div.sk-parallel {display: flex;align-items: stretch;justify-content: center;background-color: white;position: relative;}#sk-container-id-8 div.sk-item::before, #sk-container-id-8 div.sk-parallel-item::before {content: \"\";position: absolute;border-left: 1px solid gray;box-sizing: border-box;top: 0;bottom: 0;left: 50%;z-index: -1;}#sk-container-id-8 div.sk-parallel-item {display: flex;flex-direction: column;z-index: 1;position: relative;background-color: white;}#sk-container-id-8 div.sk-parallel-item:first-child::after {align-self: flex-end;width: 50%;}#sk-container-id-8 div.sk-parallel-item:last-child::after {align-self: flex-start;width: 50%;}#sk-container-id-8 div.sk-parallel-item:only-child::after {width: 0;}#sk-container-id-8 div.sk-dashed-wrapped {border: 1px dashed gray;margin: 0 0.4em 0.5em 0.4em;box-sizing: border-box;padding-bottom: 0.4em;background-color: white;}#sk-container-id-8 div.sk-label label {font-family: monospace;font-weight: bold;display: inline-block;line-height: 1.2em;}#sk-container-id-8 div.sk-label-container {text-align: center;}#sk-container-id-8 div.sk-container {/* jupyter's `normalize.less` sets `[hidden] { display: none; }` but bootstrap.min.css set `[hidden] { display: none !important; }` so we also need the `!important` here to be able to override the default hidden behavior on the sphinx rendered scikit-learn.org. See: https://github.com/scikit-learn/scikit-learn/issues/21755 */display: inline-block !important;position: relative;}#sk-container-id-8 div.sk-text-repr-fallback {display: none;}</style><div id=\"sk-container-id-8\" class=\"sk-top-container\"><div class=\"sk-text-repr-fallback\"><pre>BaggingRegressor(bootstrap_features=True)</pre><b>In a Jupyter environment, please rerun this cell to show the HTML representation or trust the notebook. <br />On GitHub, the HTML representation is unable to render, please try loading this page with nbviewer.org.</b></div><div class=\"sk-container\" hidden><div class=\"sk-item\"><div class=\"sk-estimator sk-toggleable\"><input class=\"sk-toggleable__control sk-hidden--visually\" id=\"sk-estimator-id-10\" type=\"checkbox\" checked><label for=\"sk-estimator-id-10\" class=\"sk-toggleable__label sk-toggleable__label-arrow\">BaggingRegressor</label><div class=\"sk-toggleable__content\"><pre>BaggingRegressor(bootstrap_features=True)</pre></div></div></div></div></div>"
      ],
      "text/plain": [
       "BaggingRegressor(bootstrap_features=True)"
      ]
     },
     "execution_count": 46,
     "metadata": {},
     "output_type": "execute_result"
    }
   ],
   "source": [
    "bag_model = BaggingRegressor(bootstrap_features=True)\n",
    "bag_model.fit(X_train , y_train)"
   ]
  },
  {
   "cell_type": "code",
   "execution_count": 47,
   "id": "1a0a303b",
   "metadata": {},
   "outputs": [],
   "source": [
    "bag_params = {\"n_estimators\":range(2,20)}"
   ]
  },
  {
   "cell_type": "code",
   "execution_count": 48,
   "id": "c7ab5983",
   "metadata": {},
   "outputs": [],
   "source": [
    "bag_cv_model = GridSearchCV(bag_model , bag_params , cv=10)"
   ]
  },
  {
   "cell_type": "code",
   "execution_count": 49,
   "id": "a5eaefd2",
   "metadata": {},
   "outputs": [
    {
     "data": {
      "text/html": [
       "<style>#sk-container-id-9 {color: black;}#sk-container-id-9 pre{padding: 0;}#sk-container-id-9 div.sk-toggleable {background-color: white;}#sk-container-id-9 label.sk-toggleable__label {cursor: pointer;display: block;width: 100%;margin-bottom: 0;padding: 0.3em;box-sizing: border-box;text-align: center;}#sk-container-id-9 label.sk-toggleable__label-arrow:before {content: \"▸\";float: left;margin-right: 0.25em;color: #696969;}#sk-container-id-9 label.sk-toggleable__label-arrow:hover:before {color: black;}#sk-container-id-9 div.sk-estimator:hover label.sk-toggleable__label-arrow:before {color: black;}#sk-container-id-9 div.sk-toggleable__content {max-height: 0;max-width: 0;overflow: hidden;text-align: left;background-color: #f0f8ff;}#sk-container-id-9 div.sk-toggleable__content pre {margin: 0.2em;color: black;border-radius: 0.25em;background-color: #f0f8ff;}#sk-container-id-9 input.sk-toggleable__control:checked~div.sk-toggleable__content {max-height: 200px;max-width: 100%;overflow: auto;}#sk-container-id-9 input.sk-toggleable__control:checked~label.sk-toggleable__label-arrow:before {content: \"▾\";}#sk-container-id-9 div.sk-estimator input.sk-toggleable__control:checked~label.sk-toggleable__label {background-color: #d4ebff;}#sk-container-id-9 div.sk-label input.sk-toggleable__control:checked~label.sk-toggleable__label {background-color: #d4ebff;}#sk-container-id-9 input.sk-hidden--visually {border: 0;clip: rect(1px 1px 1px 1px);clip: rect(1px, 1px, 1px, 1px);height: 1px;margin: -1px;overflow: hidden;padding: 0;position: absolute;width: 1px;}#sk-container-id-9 div.sk-estimator {font-family: monospace;background-color: #f0f8ff;border: 1px dotted black;border-radius: 0.25em;box-sizing: border-box;margin-bottom: 0.5em;}#sk-container-id-9 div.sk-estimator:hover {background-color: #d4ebff;}#sk-container-id-9 div.sk-parallel-item::after {content: \"\";width: 100%;border-bottom: 1px solid gray;flex-grow: 1;}#sk-container-id-9 div.sk-label:hover label.sk-toggleable__label {background-color: #d4ebff;}#sk-container-id-9 div.sk-serial::before {content: \"\";position: absolute;border-left: 1px solid gray;box-sizing: border-box;top: 0;bottom: 0;left: 50%;z-index: 0;}#sk-container-id-9 div.sk-serial {display: flex;flex-direction: column;align-items: center;background-color: white;padding-right: 0.2em;padding-left: 0.2em;position: relative;}#sk-container-id-9 div.sk-item {position: relative;z-index: 1;}#sk-container-id-9 div.sk-parallel {display: flex;align-items: stretch;justify-content: center;background-color: white;position: relative;}#sk-container-id-9 div.sk-item::before, #sk-container-id-9 div.sk-parallel-item::before {content: \"\";position: absolute;border-left: 1px solid gray;box-sizing: border-box;top: 0;bottom: 0;left: 50%;z-index: -1;}#sk-container-id-9 div.sk-parallel-item {display: flex;flex-direction: column;z-index: 1;position: relative;background-color: white;}#sk-container-id-9 div.sk-parallel-item:first-child::after {align-self: flex-end;width: 50%;}#sk-container-id-9 div.sk-parallel-item:last-child::after {align-self: flex-start;width: 50%;}#sk-container-id-9 div.sk-parallel-item:only-child::after {width: 0;}#sk-container-id-9 div.sk-dashed-wrapped {border: 1px dashed gray;margin: 0 0.4em 0.5em 0.4em;box-sizing: border-box;padding-bottom: 0.4em;background-color: white;}#sk-container-id-9 div.sk-label label {font-family: monospace;font-weight: bold;display: inline-block;line-height: 1.2em;}#sk-container-id-9 div.sk-label-container {text-align: center;}#sk-container-id-9 div.sk-container {/* jupyter's `normalize.less` sets `[hidden] { display: none; }` but bootstrap.min.css set `[hidden] { display: none !important; }` so we also need the `!important` here to be able to override the default hidden behavior on the sphinx rendered scikit-learn.org. See: https://github.com/scikit-learn/scikit-learn/issues/21755 */display: inline-block !important;position: relative;}#sk-container-id-9 div.sk-text-repr-fallback {display: none;}</style><div id=\"sk-container-id-9\" class=\"sk-top-container\"><div class=\"sk-text-repr-fallback\"><pre>GridSearchCV(cv=10, estimator=BaggingRegressor(bootstrap_features=True),\n",
       "             param_grid={&#x27;n_estimators&#x27;: range(2, 20)})</pre><b>In a Jupyter environment, please rerun this cell to show the HTML representation or trust the notebook. <br />On GitHub, the HTML representation is unable to render, please try loading this page with nbviewer.org.</b></div><div class=\"sk-container\" hidden><div class=\"sk-item sk-dashed-wrapped\"><div class=\"sk-label-container\"><div class=\"sk-label sk-toggleable\"><input class=\"sk-toggleable__control sk-hidden--visually\" id=\"sk-estimator-id-11\" type=\"checkbox\" ><label for=\"sk-estimator-id-11\" class=\"sk-toggleable__label sk-toggleable__label-arrow\">GridSearchCV</label><div class=\"sk-toggleable__content\"><pre>GridSearchCV(cv=10, estimator=BaggingRegressor(bootstrap_features=True),\n",
       "             param_grid={&#x27;n_estimators&#x27;: range(2, 20)})</pre></div></div></div><div class=\"sk-parallel\"><div class=\"sk-parallel-item\"><div class=\"sk-item\"><div class=\"sk-label-container\"><div class=\"sk-label sk-toggleable\"><input class=\"sk-toggleable__control sk-hidden--visually\" id=\"sk-estimator-id-12\" type=\"checkbox\" ><label for=\"sk-estimator-id-12\" class=\"sk-toggleable__label sk-toggleable__label-arrow\">estimator: BaggingRegressor</label><div class=\"sk-toggleable__content\"><pre>BaggingRegressor(bootstrap_features=True)</pre></div></div></div><div class=\"sk-serial\"><div class=\"sk-item\"><div class=\"sk-estimator sk-toggleable\"><input class=\"sk-toggleable__control sk-hidden--visually\" id=\"sk-estimator-id-13\" type=\"checkbox\" ><label for=\"sk-estimator-id-13\" class=\"sk-toggleable__label sk-toggleable__label-arrow\">BaggingRegressor</label><div class=\"sk-toggleable__content\"><pre>BaggingRegressor(bootstrap_features=True)</pre></div></div></div></div></div></div></div></div></div></div>"
      ],
      "text/plain": [
       "GridSearchCV(cv=10, estimator=BaggingRegressor(bootstrap_features=True),\n",
       "             param_grid={'n_estimators': range(2, 20)})"
      ]
     },
     "execution_count": 49,
     "metadata": {},
     "output_type": "execute_result"
    }
   ],
   "source": [
    "bag_cv_model.fit(X_train , y_train)"
   ]
  },
  {
   "cell_type": "code",
   "execution_count": 50,
   "id": "0ac19580",
   "metadata": {},
   "outputs": [
    {
     "data": {
      "text/plain": [
       "{'n_estimators': 7}"
      ]
     },
     "execution_count": 50,
     "metadata": {},
     "output_type": "execute_result"
    }
   ],
   "source": [
    "bag_cv_model.best_params_"
   ]
  },
  {
   "cell_type": "code",
   "execution_count": 51,
   "id": "54815610",
   "metadata": {},
   "outputs": [],
   "source": [
    "bag_tuned = BaggingRegressor(n_estimators=7 , random_state=45)"
   ]
  },
  {
   "cell_type": "code",
   "execution_count": 52,
   "id": "d02ba80d",
   "metadata": {},
   "outputs": [
    {
     "data": {
      "text/html": [
       "<style>#sk-container-id-10 {color: black;}#sk-container-id-10 pre{padding: 0;}#sk-container-id-10 div.sk-toggleable {background-color: white;}#sk-container-id-10 label.sk-toggleable__label {cursor: pointer;display: block;width: 100%;margin-bottom: 0;padding: 0.3em;box-sizing: border-box;text-align: center;}#sk-container-id-10 label.sk-toggleable__label-arrow:before {content: \"▸\";float: left;margin-right: 0.25em;color: #696969;}#sk-container-id-10 label.sk-toggleable__label-arrow:hover:before {color: black;}#sk-container-id-10 div.sk-estimator:hover label.sk-toggleable__label-arrow:before {color: black;}#sk-container-id-10 div.sk-toggleable__content {max-height: 0;max-width: 0;overflow: hidden;text-align: left;background-color: #f0f8ff;}#sk-container-id-10 div.sk-toggleable__content pre {margin: 0.2em;color: black;border-radius: 0.25em;background-color: #f0f8ff;}#sk-container-id-10 input.sk-toggleable__control:checked~div.sk-toggleable__content {max-height: 200px;max-width: 100%;overflow: auto;}#sk-container-id-10 input.sk-toggleable__control:checked~label.sk-toggleable__label-arrow:before {content: \"▾\";}#sk-container-id-10 div.sk-estimator input.sk-toggleable__control:checked~label.sk-toggleable__label {background-color: #d4ebff;}#sk-container-id-10 div.sk-label input.sk-toggleable__control:checked~label.sk-toggleable__label {background-color: #d4ebff;}#sk-container-id-10 input.sk-hidden--visually {border: 0;clip: rect(1px 1px 1px 1px);clip: rect(1px, 1px, 1px, 1px);height: 1px;margin: -1px;overflow: hidden;padding: 0;position: absolute;width: 1px;}#sk-container-id-10 div.sk-estimator {font-family: monospace;background-color: #f0f8ff;border: 1px dotted black;border-radius: 0.25em;box-sizing: border-box;margin-bottom: 0.5em;}#sk-container-id-10 div.sk-estimator:hover {background-color: #d4ebff;}#sk-container-id-10 div.sk-parallel-item::after {content: \"\";width: 100%;border-bottom: 1px solid gray;flex-grow: 1;}#sk-container-id-10 div.sk-label:hover label.sk-toggleable__label {background-color: #d4ebff;}#sk-container-id-10 div.sk-serial::before {content: \"\";position: absolute;border-left: 1px solid gray;box-sizing: border-box;top: 0;bottom: 0;left: 50%;z-index: 0;}#sk-container-id-10 div.sk-serial {display: flex;flex-direction: column;align-items: center;background-color: white;padding-right: 0.2em;padding-left: 0.2em;position: relative;}#sk-container-id-10 div.sk-item {position: relative;z-index: 1;}#sk-container-id-10 div.sk-parallel {display: flex;align-items: stretch;justify-content: center;background-color: white;position: relative;}#sk-container-id-10 div.sk-item::before, #sk-container-id-10 div.sk-parallel-item::before {content: \"\";position: absolute;border-left: 1px solid gray;box-sizing: border-box;top: 0;bottom: 0;left: 50%;z-index: -1;}#sk-container-id-10 div.sk-parallel-item {display: flex;flex-direction: column;z-index: 1;position: relative;background-color: white;}#sk-container-id-10 div.sk-parallel-item:first-child::after {align-self: flex-end;width: 50%;}#sk-container-id-10 div.sk-parallel-item:last-child::after {align-self: flex-start;width: 50%;}#sk-container-id-10 div.sk-parallel-item:only-child::after {width: 0;}#sk-container-id-10 div.sk-dashed-wrapped {border: 1px dashed gray;margin: 0 0.4em 0.5em 0.4em;box-sizing: border-box;padding-bottom: 0.4em;background-color: white;}#sk-container-id-10 div.sk-label label {font-family: monospace;font-weight: bold;display: inline-block;line-height: 1.2em;}#sk-container-id-10 div.sk-label-container {text-align: center;}#sk-container-id-10 div.sk-container {/* jupyter's `normalize.less` sets `[hidden] { display: none; }` but bootstrap.min.css set `[hidden] { display: none !important; }` so we also need the `!important` here to be able to override the default hidden behavior on the sphinx rendered scikit-learn.org. See: https://github.com/scikit-learn/scikit-learn/issues/21755 */display: inline-block !important;position: relative;}#sk-container-id-10 div.sk-text-repr-fallback {display: none;}</style><div id=\"sk-container-id-10\" class=\"sk-top-container\"><div class=\"sk-text-repr-fallback\"><pre>BaggingRegressor(n_estimators=7, random_state=45)</pre><b>In a Jupyter environment, please rerun this cell to show the HTML representation or trust the notebook. <br />On GitHub, the HTML representation is unable to render, please try loading this page with nbviewer.org.</b></div><div class=\"sk-container\" hidden><div class=\"sk-item\"><div class=\"sk-estimator sk-toggleable\"><input class=\"sk-toggleable__control sk-hidden--visually\" id=\"sk-estimator-id-14\" type=\"checkbox\" checked><label for=\"sk-estimator-id-14\" class=\"sk-toggleable__label sk-toggleable__label-arrow\">BaggingRegressor</label><div class=\"sk-toggleable__content\"><pre>BaggingRegressor(n_estimators=7, random_state=45)</pre></div></div></div></div></div>"
      ],
      "text/plain": [
       "BaggingRegressor(n_estimators=7, random_state=45)"
      ]
     },
     "execution_count": 52,
     "metadata": {},
     "output_type": "execute_result"
    }
   ],
   "source": [
    "bag_tuned.fit(X_train , y_train )"
   ]
  },
  {
   "cell_type": "code",
   "execution_count": 53,
   "id": "afc99f04",
   "metadata": {},
   "outputs": [],
   "source": [
    "y_pred = bag_tuned.predict(X_test)"
   ]
  },
  {
   "cell_type": "code",
   "execution_count": 54,
   "id": "6b157c2b",
   "metadata": {},
   "outputs": [
    {
     "data": {
      "text/plain": [
       "353.09815568533355"
      ]
     },
     "execution_count": 54,
     "metadata": {},
     "output_type": "execute_result"
    }
   ],
   "source": [
    "np.sqrt(mean_squared_error(y_test , y_pred))"
   ]
  },
  {
   "cell_type": "code",
   "execution_count": null,
   "id": "ef3bba72",
   "metadata": {},
   "outputs": [],
   "source": []
  }
 ],
 "metadata": {
  "kernelspec": {
   "display_name": "Python 3 (ipykernel)",
   "language": "python",
   "name": "python3"
  },
  "language_info": {
   "codemirror_mode": {
    "name": "ipython",
    "version": 3
   },
   "file_extension": ".py",
   "mimetype": "text/x-python",
   "name": "python",
   "nbconvert_exporter": "python",
   "pygments_lexer": "ipython3",
   "version": "3.11.5"
  }
 },
 "nbformat": 4,
 "nbformat_minor": 5
}
